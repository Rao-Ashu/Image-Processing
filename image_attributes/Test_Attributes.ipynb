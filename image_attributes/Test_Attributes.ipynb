{
 "cells": [
  {
   "cell_type": "code",
   "execution_count": 6,
   "metadata": {},
   "outputs": [],
   "source": [
    "import cv2\n",
    "import numpy as np"
   ]
  },
  {
   "cell_type": "markdown",
   "metadata": {},
   "source": [
    "# Brightness"
   ]
  },
  {
   "cell_type": "code",
   "execution_count": 13,
   "metadata": {},
   "outputs": [],
   "source": [
    "def find_brightest_spot(image:str, radius:int)->np.ndarray:\n",
    "    '''\n",
    "    Find the brightest spot in the image\n",
    "    args:\n",
    "        image: Image Path\n",
    "        radius: Kernel Size of Gaussian Blur. Must be odd\n",
    "    '''\n",
    "    assert radius % 2 != 0, \"Radius must be Odd\"\n",
    "    \n",
    "    image = cv2.imread(image)\n",
    "    gray = cv2.cvtColor(image, cv2.COLOR_BGR2GRAY)\n",
    "    gray = cv2.GaussianBlur(gray, (radius, radius), 0)\n",
    "    \n",
    "    (minVal, maxVal, minLoc, maxLoc) = cv2.minMaxLoc(gray)\n",
    "    cv2.circle(image, maxLoc, radius, (255, 0, 0), 2)\n",
    "    \n",
    "    return image\n",
    "\n",
    "\n",
    "def overall_brightness(image:str, method:str='LAB', normalize:bool=True)->float:\n",
    "    '''\n",
    "    Find the brightness value of an image\n",
    "    args:\n",
    "        image: Path of Image\n",
    "        method: Using any of the colorspace (GRAY, LAB, HSV)\n",
    "        normalize: Whether to return the normalize value between 0-1\n",
    "    '''\n",
    "    image = cv2.imread(image)\n",
    "    \n",
    "    if method == 'LAB':\n",
    "        L, A, B = cv2.split(cv2.cvtColor(image, cv2.COLOR_BGR2LAB))\n",
    "        if normalize:\n",
    "            L = L/np.max(L)\n",
    "        return np.mean(L)\n",
    "    \n",
    "    elif method == 'HSV':\n",
    "        H, S, V = cv2.split(cv2.cvtColor(image, cv2.COLOR_BGR2HSV))\n",
    "        if normalize:\n",
    "            V = V/np.max(V)\n",
    "        return np.mean(V)\n",
    "    \n",
    "    elif method == 'GRAY':\n",
    "        gray = cv2.cvtColor(image, cv2.COLOR_BGR2GRAY)\n",
    "        if normalize:\n",
    "            gray = gray / np.max(gray)\n",
    "        return np.mean(gray)"
   ]
  },
  {
   "cell_type": "markdown",
   "metadata": {},
   "source": [
    "# Contrast"
   ]
  },
  {
   "cell_type": "code",
   "execution_count": 11,
   "metadata": {},
   "outputs": [],
   "source": [
    "def overall_contrast(image, method:str='RMS')->float:\n",
    "    '''\n",
    "    Find the overall contrast\n",
    "    args:\n",
    "        image: Image string or Path of Image\n",
    "        method: Standard Deviation (RMS) method or the alternate channel method using (LAB or YUV) colorspace\n",
    "    '''\n",
    "    image = cv2.imread(image)\n",
    "    \n",
    "    def alternate(channel:np.ndarray)->float:\n",
    "        '''\n",
    "        Alternate method to find the contrast\n",
    "        '''\n",
    "        min_ = np.min(channel)\n",
    "        max_ = np.max(channel)\n",
    "        contrast = (max_ - min_)/(max_ + min_)\n",
    "        return contrast\n",
    "    \n",
    "    if method == 'RMS':\n",
    "        image = cv2.imread(image)\n",
    "        gray = cv2.cvtColor(image, cv2.COLOR_BGR2GRAY)\n",
    "        return gray.std()\n",
    "    \n",
    "    elif method == 'LAB':\n",
    "        L, A, B = cv2.split(cv2.cvtColor(image, cv2.COLOR_BGR2LAB))\n",
    "        return alternate(L)\n",
    "        \n",
    "    elif method == 'YUV':\n",
    "        Y, U, V = cv2.split(cv2.cvtColor(image,cv2.COLOR_BGR2YUV))\n",
    "        return alternate(Y)"
   ]
  },
  {
   "cell_type": "markdown",
   "metadata": {},
   "source": [
    "# Flash in Image (Improve Code)"
   ]
  },
  {
   "cell_type": "code",
   "execution_count": 1,
   "metadata": {},
   "outputs": [],
   "source": [
    "def get_image_stats(img_path, lbl = 'image'):\n",
    "    img = cv2.imread(img_path)\n",
    "    plt.imshow(img)\n",
    "    \n",
    "    gray = cv2.cvtColor(img, cv2.COLOR_BGR2GRAY)\n",
    "    blurred = cv2.GaussianBlur(gray, (93, 93), 0)\n",
    "    no_text = gray * ((gray/blurred)>0.99)                     # select background only\n",
    "    no_text[no_text<10] = no_text[no_text>20].mean()           # convert black pixels to mean value\n",
    "    no_bright = no_text.copy()\n",
    "    no_bright[no_bright>220] = no_bright[no_bright<220].mean() # disregard bright pixels\n",
    "\n",
    "    print(lbl)\n",
    "    std = no_bright.std()\n",
    "    print('STD:', std)\n",
    "    bright = (no_text>220).sum()\n",
    "    print('Brigth pixels:', bright)\n",
    "    plt.figure()\n",
    "    plt.hist(no_text.reshape(-1,1), 25)\n",
    "    plt.title(lbl)\n",
    "\n",
    "    if std>25:\n",
    "        print(\"!!! Detected uneven illumination\")\n",
    "    if no_text.mean()<200 and bright>8000:\n",
    "        print(\"!!! Detected glare\")"
   ]
  },
  {
   "cell_type": "code",
   "execution_count": null,
   "metadata": {},
   "outputs": [],
   "source": []
  }
 ],
 "metadata": {
  "kernelspec": {
   "display_name": "Python 3",
   "language": "python",
   "name": "python3"
  },
  "language_info": {
   "codemirror_mode": {
    "name": "ipython",
    "version": 3
   },
   "file_extension": ".py",
   "mimetype": "text/x-python",
   "name": "python",
   "nbconvert_exporter": "python",
   "pygments_lexer": "ipython3",
   "version": "3.8.5"
  }
 },
 "nbformat": 4,
 "nbformat_minor": 4
}
